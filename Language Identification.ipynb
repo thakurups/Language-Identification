{
 "cells": [
  {
   "cell_type": "code",
   "execution_count": 1,
   "metadata": {},
   "outputs": [],
   "source": [
    "import string\n",
    "import re\n",
    "import codecs\n",
    "import numpy as np\n",
    "import pandas as ps\n",
    "import seaborn as sns #for visualisation\n",
    "import matplotlib.pyplot as plt #for visualisation\n",
    "from sklearn import feature_extraction\n",
    "from sklearn import linear_model\n",
    "from sklearn import pipeline\n",
    "from sklearn.model_selection import train_test_split\n",
    "from sklearn import metrics"
   ]
  },
  {
   "cell_type": "code",
   "execution_count": 2,
   "metadata": {},
   "outputs": [
    {
     "data": {
      "text/html": [
       "<div>\n",
       "<style scoped>\n",
       "    .dataframe tbody tr th:only-of-type {\n",
       "        vertical-align: middle;\n",
       "    }\n",
       "\n",
       "    .dataframe tbody tr th {\n",
       "        vertical-align: top;\n",
       "    }\n",
       "\n",
       "    .dataframe thead th {\n",
       "        text-align: right;\n",
       "    }\n",
       "</style>\n",
       "<table border=\"1\" class=\"dataframe\">\n",
       "  <thead>\n",
       "    <tr style=\"text-align: right;\">\n",
       "      <th></th>\n",
       "      <th>English</th>\n",
       "    </tr>\n",
       "  </thead>\n",
       "  <tbody>\n",
       "    <tr>\n",
       "      <th>0</th>\n",
       "      <td>THERE IS AN ILLUSTRATED EDITION OF THIS TITLE ...</td>\n",
       "    </tr>\n",
       "    <tr>\n",
       "      <th>1</th>\n",
       "      <td>[# 42671 ]</td>\n",
       "    </tr>\n",
       "    <tr>\n",
       "      <th>2</th>\n",
       "      <td>cover</td>\n",
       "    </tr>\n",
       "    <tr>\n",
       "      <th>3</th>\n",
       "      <td>Pride and Prejudice</td>\n",
       "    </tr>\n",
       "    <tr>\n",
       "      <th>4</th>\n",
       "      <td>By Jane Austen</td>\n",
       "    </tr>\n",
       "  </tbody>\n",
       "</table>\n",
       "</div>"
      ],
      "text/plain": [
       "                                             English\n",
       "0  THERE IS AN ILLUSTRATED EDITION OF THIS TITLE ...\n",
       "1                                         [# 42671 ]\n",
       "2                                              cover\n",
       "3                                Pride and Prejudice\n",
       "4                                     By Jane Austen"
      ]
     },
     "execution_count": 2,
     "metadata": {},
     "output_type": "execute_result"
    }
   ],
   "source": [
    "eng_df=ps.read_csv(\"English.txt\",\"utf-8\",header=None,names=['English'],engine='python')\n",
    "eng_df.head()\n"
   ]
  },
  {
   "cell_type": "code",
   "execution_count": 3,
   "metadata": {},
   "outputs": [
    {
     "data": {
      "text/html": [
       "<div>\n",
       "<style scoped>\n",
       "    .dataframe tbody tr th:only-of-type {\n",
       "        vertical-align: middle;\n",
       "    }\n",
       "\n",
       "    .dataframe tbody tr th {\n",
       "        vertical-align: top;\n",
       "    }\n",
       "\n",
       "    .dataframe thead th {\n",
       "        text-align: right;\n",
       "    }\n",
       "</style>\n",
       "<table border=\"1\" class=\"dataframe\">\n",
       "  <thead>\n",
       "    <tr style=\"text-align: right;\">\n",
       "      <th></th>\n",
       "      <th>French</th>\n",
       "    </tr>\n",
       "  </thead>\n",
       "  <tbody>\n",
       "    <tr>\n",
       "      <th>0</th>\n",
       "      <td>Descartes, RenÃ©</td>\n",
       "    </tr>\n",
       "    <tr>\n",
       "      <th>1</th>\n",
       "      <td>_Oeuvres de Descartes, prÃ©cÃ©dÃ©es de l'Ã©log...</td>\n",
       "    </tr>\n",
       "    <tr>\n",
       "      <th>2</th>\n",
       "      <td>Thomas_</td>\n",
       "    </tr>\n",
       "    <tr>\n",
       "      <th>3</th>\n",
       "      <td>OEUVRES DE DESCARTES.</td>\n",
       "    </tr>\n",
       "    <tr>\n",
       "      <th>4</th>\n",
       "      <td>TOME PREMIER</td>\n",
       "    </tr>\n",
       "  </tbody>\n",
       "</table>\n",
       "</div>"
      ],
      "text/plain": [
       "                                              French\n",
       "0                                   Descartes, RenÃ©\n",
       "1  _Oeuvres de Descartes, prÃ©cÃ©dÃ©es de l'Ã©log...\n",
       "2                                            Thomas_\n",
       "3                              OEUVRES DE DESCARTES.\n",
       "4                                       TOME PREMIER"
      ]
     },
     "execution_count": 3,
     "metadata": {},
     "output_type": "execute_result"
    }
   ],
   "source": [
    "french_df=ps.read_csv(\"French.txt\",\"utf-8\",header=None,names=['French'],engine='python')\n",
    "french_df.head()"
   ]
  },
  {
   "cell_type": "code",
   "execution_count": 4,
   "metadata": {},
   "outputs": [
    {
     "data": {
      "text/html": [
       "<div>\n",
       "<style scoped>\n",
       "    .dataframe tbody tr th:only-of-type {\n",
       "        vertical-align: middle;\n",
       "    }\n",
       "\n",
       "    .dataframe tbody tr th {\n",
       "        vertical-align: top;\n",
       "    }\n",
       "\n",
       "    .dataframe thead th {\n",
       "        text-align: right;\n",
       "    }\n",
       "</style>\n",
       "<table border=\"1\" class=\"dataframe\">\n",
       "  <thead>\n",
       "    <tr style=\"text-align: right;\">\n",
       "      <th></th>\n",
       "      <th>Italian</th>\n",
       "    </tr>\n",
       "  </thead>\n",
       "  <tbody>\n",
       "    <tr>\n",
       "      <th>0</th>\n",
       "      <td>LA DIVINA COMMEDIA</td>\n",
       "    </tr>\n",
       "    <tr>\n",
       "      <th>1</th>\n",
       "      <td>di Dante Alighieri</td>\n",
       "    </tr>\n",
       "    <tr>\n",
       "      <th>2</th>\n",
       "      <td>INFERNO</td>\n",
       "    </tr>\n",
       "    <tr>\n",
       "      <th>3</th>\n",
       "      <td>Inferno â€¢ Canto I</td>\n",
       "    </tr>\n",
       "    <tr>\n",
       "      <th>4</th>\n",
       "      <td>Nel mezzo del cammin di nostra vita</td>\n",
       "    </tr>\n",
       "  </tbody>\n",
       "</table>\n",
       "</div>"
      ],
      "text/plain": [
       "                               Italian\n",
       "0                   LA DIVINA COMMEDIA\n",
       "1                   di Dante Alighieri\n",
       "2                              INFERNO\n",
       "3                  Inferno â€¢ Canto I\n",
       "4  Nel mezzo del cammin di nostra vita"
      ]
     },
     "execution_count": 4,
     "metadata": {},
     "output_type": "execute_result"
    }
   ],
   "source": [
    "ita_df=ps.read_csv(\"Italian.txt\",\"utf-8\",header=None,names=['Italian'],engine='python')\n",
    "ita_df.head()"
   ]
  },
  {
   "cell_type": "code",
   "execution_count": 5,
   "metadata": {},
   "outputs": [
    {
     "data": {
      "text/html": [
       "<div>\n",
       "<style scoped>\n",
       "    .dataframe tbody tr th:only-of-type {\n",
       "        vertical-align: middle;\n",
       "    }\n",
       "\n",
       "    .dataframe tbody tr th {\n",
       "        vertical-align: top;\n",
       "    }\n",
       "\n",
       "    .dataframe thead th {\n",
       "        text-align: right;\n",
       "    }\n",
       "</style>\n",
       "<table border=\"1\" class=\"dataframe\">\n",
       "  <thead>\n",
       "    <tr style=\"text-align: right;\">\n",
       "      <th></th>\n",
       "      <th>Spanish</th>\n",
       "    </tr>\n",
       "  </thead>\n",
       "  <tbody>\n",
       "    <tr>\n",
       "      <th>0</th>\n",
       "      <td>BIBLIOTECA de LA NACIÃ“N</td>\n",
       "    </tr>\n",
       "    <tr>\n",
       "      <th>1</th>\n",
       "      <td>EDMUNDO ABOUT</td>\n",
       "    </tr>\n",
       "    <tr>\n",
       "      <th>2</th>\n",
       "      <td>GERMANA</td>\n",
       "    </tr>\n",
       "    <tr>\n",
       "      <th>3</th>\n",
       "      <td>TRADUCCIÃ“N DE</td>\n",
       "    </tr>\n",
       "    <tr>\n",
       "      <th>4</th>\n",
       "      <td>T. ORTS-RAMOS</td>\n",
       "    </tr>\n",
       "  </tbody>\n",
       "</table>\n",
       "</div>"
      ],
      "text/plain": [
       "                    Spanish\n",
       "0  BIBLIOTECA de LA NACIÃ“N\n",
       "1             EDMUNDO ABOUT\n",
       "2                   GERMANA\n",
       "3            TRADUCCIÃ“N DE\n",
       "4             T. ORTS-RAMOS"
      ]
     },
     "execution_count": 5,
     "metadata": {},
     "output_type": "execute_result"
    }
   ],
   "source": [
    "spanish_df=ps.read_csv(\"spanish.txt\",\"utf-8\",header=None,names=['Spanish'],engine='python')\n",
    "spanish_df.head()\n"
   ]
  },
  {
   "cell_type": "code",
   "execution_count": 6,
   "metadata": {},
   "outputs": [
    {
     "data": {
      "text/html": [
       "<div>\n",
       "<style scoped>\n",
       "    .dataframe tbody tr th:only-of-type {\n",
       "        vertical-align: middle;\n",
       "    }\n",
       "\n",
       "    .dataframe tbody tr th {\n",
       "        vertical-align: top;\n",
       "    }\n",
       "\n",
       "    .dataframe thead th {\n",
       "        text-align: right;\n",
       "    }\n",
       "</style>\n",
       "<table border=\"1\" class=\"dataframe\">\n",
       "  <thead>\n",
       "    <tr style=\"text-align: right;\">\n",
       "      <th></th>\n",
       "      <th>German</th>\n",
       "    </tr>\n",
       "  </thead>\n",
       "  <tbody>\n",
       "    <tr>\n",
       "      <th>0</th>\n",
       "      <td>Die</td>\n",
       "    </tr>\n",
       "    <tr>\n",
       "      <th>1</th>\n",
       "      <td>Falkner vom Falkenhof</td>\n",
       "    </tr>\n",
       "    <tr>\n",
       "      <th>2</th>\n",
       "      <td>Roman von</td>\n",
       "    </tr>\n",
       "    <tr>\n",
       "      <th>3</th>\n",
       "      <td>Euf. v. Adlersfeld-Ballestrem</td>\n",
       "    </tr>\n",
       "    <tr>\n",
       "      <th>4</th>\n",
       "      <td>FÃ¼nfundzwanzigste Auflage</td>\n",
       "    </tr>\n",
       "  </tbody>\n",
       "</table>\n",
       "</div>"
      ],
      "text/plain": [
       "                          German\n",
       "0                            Die\n",
       "1          Falkner vom Falkenhof\n",
       "2                      Roman von\n",
       "3  Euf. v. Adlersfeld-Ballestrem\n",
       "4     FÃ¼nfundzwanzigste Auflage"
      ]
     },
     "execution_count": 6,
     "metadata": {},
     "output_type": "execute_result"
    }
   ],
   "source": [
    "german_df=ps.read_csv(\"German.txt\",\"utf-8\",header=None,names=['German'],engine='python')\n",
    "german_df.head()\n"
   ]
  },
  {
   "cell_type": "code",
   "execution_count": 7,
   "metadata": {},
   "outputs": [],
   "source": [
    "data_eng=[]\n",
    "lang_eng=[]\n",
    "for i,line in eng_df.iterrows():\n",
    "    line=line['English']\n",
    "    if len(line)!=0:\n",
    "        line=line.lower()\n",
    "        line=re.sub(r\"\\d+\",\"\",line)\n",
    "        line=line.translate(dict((ord(char),None) for char in string.punctuation))\n",
    "        data_eng.append(line)\n",
    "        lang_eng.append(\"English\")       "
   ]
  },
  {
   "cell_type": "code",
   "execution_count": 8,
   "metadata": {},
   "outputs": [],
   "source": [
    "data_french=[]\n",
    "lang_french=[]\n",
    "for i,line in french_df.iterrows():\n",
    "    line=line['French']\n",
    "    if len(line)!=0:\n",
    "        line=line.lower()\n",
    "        line=re.sub(r\"\\d+\",\"\",line)\n",
    "        line=line.translate(dict((ord(char),None) for char in string.punctuation))\n",
    "        data_french.append(line)\n",
    "        lang_french.append(\"French\") "
   ]
  },
  {
   "cell_type": "code",
   "execution_count": 9,
   "metadata": {},
   "outputs": [],
   "source": [
    "data_ita=[]\n",
    "lang_ita=[]\n",
    "for i,line in ita_df.iterrows():\n",
    "    line=line['Italian']\n",
    "    if len(line)!=0:\n",
    "        line=line.lower()\n",
    "        line=re.sub(r\"\\d+\",\"\",line)\n",
    "        line=line.translate(dict((ord(char),None) for char in string.punctuation))\n",
    "        data_ita.append(line)\n",
    "        lang_ita.append(\"Italian\") "
   ]
  },
  {
   "cell_type": "code",
   "execution_count": 10,
   "metadata": {},
   "outputs": [],
   "source": [
    "data_spa=[]\n",
    "lang_spa=[]\n",
    "for i,line in spanish_df.iterrows():\n",
    "    line=line['Spanish']\n",
    "    if len(line)!=0:\n",
    "        line=line.lower()\n",
    "        line=re.sub(r\"\\d+\",\"\",line)\n",
    "        line=line.translate(dict((ord(char),None) for char in string.punctuation))\n",
    "        data_spa.append(line)\n",
    "        lang_spa.append(\"Spanish\")\n",
    "       "
   ]
  },
  {
   "cell_type": "code",
   "execution_count": 11,
   "metadata": {},
   "outputs": [],
   "source": [
    "data_ger=[]\n",
    "lang_ger=[]\n",
    "for i,line in german_df.iterrows():\n",
    "    line=line['German']\n",
    "    if len(line)!=0:\n",
    "        line=line.lower()\n",
    "        line=re.sub(r\"\\d+\",\"\",line)\n",
    "        line=line.translate(dict((ord(char),None) for char in string.punctuation))\n",
    "        data_ger.append(line)\n",
    "        lang_ger.append(\"German\")\n",
    "       "
   ]
  },
  {
   "cell_type": "code",
   "execution_count": 12,
   "metadata": {},
   "outputs": [
    {
     "data": {
      "text/html": [
       "<div>\n",
       "<style scoped>\n",
       "    .dataframe tbody tr th:only-of-type {\n",
       "        vertical-align: middle;\n",
       "    }\n",
       "\n",
       "    .dataframe tbody tr th {\n",
       "        vertical-align: top;\n",
       "    }\n",
       "\n",
       "    .dataframe thead th {\n",
       "        text-align: right;\n",
       "    }\n",
       "</style>\n",
       "<table border=\"1\" class=\"dataframe\">\n",
       "  <thead>\n",
       "    <tr style=\"text-align: right;\">\n",
       "      <th></th>\n",
       "      <th>Text</th>\n",
       "      <th>language</th>\n",
       "    </tr>\n",
       "  </thead>\n",
       "  <tbody>\n",
       "    <tr>\n",
       "      <th>0</th>\n",
       "      <td>there is an illustrated edition of this title ...</td>\n",
       "      <td>English</td>\n",
       "    </tr>\n",
       "    <tr>\n",
       "      <th>1</th>\n",
       "      <td></td>\n",
       "      <td>English</td>\n",
       "    </tr>\n",
       "    <tr>\n",
       "      <th>2</th>\n",
       "      <td>cover</td>\n",
       "      <td>English</td>\n",
       "    </tr>\n",
       "    <tr>\n",
       "      <th>3</th>\n",
       "      <td>pride and prejudice</td>\n",
       "      <td>English</td>\n",
       "    </tr>\n",
       "    <tr>\n",
       "      <th>4</th>\n",
       "      <td>by jane austen</td>\n",
       "      <td>English</td>\n",
       "    </tr>\n",
       "    <tr>\n",
       "      <th>...</th>\n",
       "      <td>...</td>\n",
       "      <td>...</td>\n",
       "    </tr>\n",
       "    <tr>\n",
       "      <th>47566</th>\n",
       "      <td>this web site includes information about proje...</td>\n",
       "      <td>French</td>\n",
       "    </tr>\n",
       "    <tr>\n",
       "      <th>47567</th>\n",
       "      <td>including how to make donations to the project...</td>\n",
       "      <td>French</td>\n",
       "    </tr>\n",
       "    <tr>\n",
       "      <th>47568</th>\n",
       "      <td>archive foundation how to help produce our new...</td>\n",
       "      <td>French</td>\n",
       "    </tr>\n",
       "    <tr>\n",
       "      <th>47569</th>\n",
       "      <td>subscribe to our email newsletter to hear abou...</td>\n",
       "      <td>French</td>\n",
       "    </tr>\n",
       "    <tr>\n",
       "      <th>47570</th>\n",
       "      <td>end full license</td>\n",
       "      <td>French</td>\n",
       "    </tr>\n",
       "  </tbody>\n",
       "</table>\n",
       "<p>47571 rows × 2 columns</p>\n",
       "</div>"
      ],
      "text/plain": [
       "                                                    Text language\n",
       "0      there is an illustrated edition of this title ...  English\n",
       "1                                                         English\n",
       "2                                                  cover  English\n",
       "3                                    pride and prejudice  English\n",
       "4                                         by jane austen  English\n",
       "...                                                  ...      ...\n",
       "47566  this web site includes information about proje...   French\n",
       "47567  including how to make donations to the project...   French\n",
       "47568  archive foundation how to help produce our new...   French\n",
       "47569  subscribe to our email newsletter to hear abou...   French\n",
       "47570                                  end full license    French\n",
       "\n",
       "[47571 rows x 2 columns]"
      ]
     },
     "execution_count": 12,
     "metadata": {},
     "output_type": "execute_result"
    }
   ],
   "source": [
    "df=ps.DataFrame({\"Text\":data_eng+data_ger+data_spa+data_ita+data_french,\"language\":lang_eng+lang_ger+lang_spa+lang_ita+lang_french})\n",
    "\n",
    "df.shape\n",
    "df"
   ]
  },
  {
   "cell_type": "code",
   "execution_count": 13,
   "metadata": {},
   "outputs": [
    {
     "name": "stdout",
     "output_type": "stream",
     "text": [
      "(38056,)\n",
      "(9515,)\n",
      "(38056,)\n",
      "(9515,)\n"
     ]
    }
   ],
   "source": [
    "# splitting data in train and test sets\n",
    "x,y=df.iloc[:,0],df.iloc[:,1]\n",
    "x_train,x_test,y_train,y_test=train_test_split(x,y,test_size=0.2,random_state=0)\n",
    "print(x_train.shape)\n",
    "print(x_test.shape)\n",
    "print(y_train.shape)\n",
    "print(y_test.shape)"
   ]
  },
  {
   "cell_type": "code",
   "execution_count": 14,
   "metadata": {
    "scrolled": true
   },
   "outputs": [
    {
     "data": {
      "text/plain": [
       "Pipeline(steps=[('vectorizer',\n",
       "                 TfidfVectorizer(analyzer='char', ngram_range=(1, 3))),\n",
       "                ('clf', LogisticRegression(max_iter=10000000))])"
      ]
     },
     "execution_count": 14,
     "metadata": {},
     "output_type": "execute_result"
    }
   ],
   "source": [
    "# vectorizer using tfidf\n",
    "vectorizer=feature_extraction.text.TfidfVectorizer(ngram_range=(1,3),analyzer='char')\n",
    "\n",
    "pipe_lr_r13=pipeline.Pipeline([('vectorizer',vectorizer),('clf',linear_model.LogisticRegression(max_iter=10000000))])\n",
    "\n",
    "#model fitting\n",
    "\n",
    "pipe_lr_r13.fit(x_train,y_train)\n"
   ]
  },
  {
   "cell_type": "code",
   "execution_count": 15,
   "metadata": {},
   "outputs": [
    {
     "data": {
      "text/plain": [
       "array(['Italian', 'French', 'English', ..., 'English', 'Italian',\n",
       "       'Spanish'], dtype=object)"
      ]
     },
     "execution_count": 15,
     "metadata": {},
     "output_type": "execute_result"
    }
   ],
   "source": [
    "#model prediction\n",
    "y_predicted=pipe_lr_r13.predict(x_test)\n",
    "y_predicted"
   ]
  },
  {
   "cell_type": "code",
   "execution_count": 16,
   "metadata": {},
   "outputs": [
    {
     "data": {
      "text/plain": [
       "97.5827640567525"
      ]
     },
     "execution_count": 16,
     "metadata": {},
     "output_type": "execute_result"
    }
   ],
   "source": [
    "# model Evaluation\n",
    "acc=(metrics.accuracy_score(y_test,y_predicted))*100\n",
    "acc"
   ]
  },
  {
   "cell_type": "code",
   "execution_count": 17,
   "metadata": {},
   "outputs": [
    {
     "data": {
      "text/plain": [
       "array([[2399,    8,    1,   12,   16],\n",
       "       [  37, 2012,    0,   12,   11],\n",
       "       [   3,    0,  800,    2,    1],\n",
       "       [  48,   10,    1, 2866,   10],\n",
       "       [  27,   13,    2,   16, 1208]], dtype=int64)"
      ]
     },
     "execution_count": 17,
     "metadata": {},
     "output_type": "execute_result"
    }
   ],
   "source": [
    "matrix=metrics.confusion_matrix(y_test,y_predicted)\n",
    "matrix"
   ]
  },
  {
   "cell_type": "code",
   "execution_count": 18,
   "metadata": {},
   "outputs": [
    {
     "data": {
      "text/plain": [
       "array(['English'], dtype=object)"
      ]
     },
     "execution_count": 18,
     "metadata": {},
     "output_type": "execute_result"
    }
   ],
   "source": [
    "pipe_lr_r13.predict([\"thusssy wiants jhatu\"])"
   ]
  },
  {
   "cell_type": "code",
   "execution_count": 23,
   "metadata": {},
   "outputs": [],
   "source": [
    "import pickle\n",
    "lrFile=open('LIModel.pkl','wb')\n",
    "pickle.dump(pipe_lr_r13,lrFile)\n",
    "lrFile.close()"
   ]
  },
  {
   "cell_type": "code",
   "execution_count": 32,
   "metadata": {},
   "outputs": [],
   "source": [
    "import pandas as pd\n",
    "def lang_detect(text):\n",
    "    import pickle\n",
    "    import string \n",
    "    import re\n",
    "    import numpy as np\n",
    "    translate_table=dict((ord(char),None) for char in string.punctuation)\n",
    "    \n",
    "    global langDetectModel\n",
    "    l_file=open(\"LIModel.pkl\",\"rb\")\n",
    "    langDetectModel=pickle.load(l_file)\n",
    "    l_file.close()\n",
    "    \n",
    "    text=\" \".join(text.split())\n",
    "    text =text.lower()\n",
    "    text=re.sub(r\"\\d+\",\"\",text)\n",
    "    text=text.translate(translate_table)\n",
    "    pred=langDetectModel.predict([text])\n",
    "    prob=langDetectModel.predict_proba([text])\n",
    "    return pred[0]"
   ]
  },
  {
   "cell_type": "code",
   "execution_count": 34,
   "metadata": {},
   "outputs": [
    {
     "data": {
      "text/plain": [
       "'German'"
      ]
     },
     "execution_count": 34,
     "metadata": {},
     "output_type": "execute_result"
    }
   ],
   "source": [
    "lang_detect(\"fahr zur Hölle\")"
   ]
  },
  {
   "cell_type": "code",
   "execution_count": null,
   "metadata": {},
   "outputs": [],
   "source": []
  }
 ],
 "metadata": {
  "kernelspec": {
   "display_name": "Python 3",
   "language": "python",
   "name": "python3"
  },
  "language_info": {
   "codemirror_mode": {
    "name": "ipython",
    "version": 3
   },
   "file_extension": ".py",
   "mimetype": "text/x-python",
   "name": "python",
   "nbconvert_exporter": "python",
   "pygments_lexer": "ipython3",
   "version": "3.8.5"
  }
 },
 "nbformat": 4,
 "nbformat_minor": 4
}
